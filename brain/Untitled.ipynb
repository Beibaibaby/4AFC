{
 "cells": [
  {
   "cell_type": "code",
   "execution_count": 6,
   "id": "7e9ee528",
   "metadata": {},
   "outputs": [
    {
     "data": {
      "image/png": "[encoded data removed]",
      "text/plain": [
       "<Figure size 432x288 with 2 Axes>"
      ]
     },
     "metadata": {
      "needs_background": "light"
     },
     "output_type": "display_data"
    }
   ],
   "source": [
    "tt=8\n",
    "J_E_self = 0.00497*tt\n",
    "J_E_Same = 0.00897*tt\n",
    "J_E_Opp = J_E_self\n",
    "\n",
    "ratio=-0.15\n",
    "\n",
    "J_I_Same = -J_E_self*4\n",
    "J_I_Opp = -J_E_Same\n",
    "J_I_Self= -J_E_self*tt*ratio\n",
    "\n",
    "(J11,J12,J13,J14) = (J_E_self,J_E_Same,J_I_Same,J_I_Opp)\n",
    "(J21,J22,J23,J24) = (J_E_Same,J_E_self,J_I_Opp,J_I_Same)\n",
    "(J31,J32,J33,J34) = (J_E_Same,J_E_Opp,J_I_Self,0.001)\n",
    "(J41,J42,J43,J44) = (J_E_Opp,J_E_Same,0.001,J_I_Self)\n",
    "\n",
    "import numpy as np\n",
    "\n",
    "a=np.array([[J_E_self,J_E_Same,J_I_Same,J_I_Opp],[J_E_Same,J_E_self,J_I_Opp,J_I_Same],[J_E_Same,J_E_Opp,J_I_Self,0.001],[J_E_Opp,J_E_Same,0.001,J_I_Self]])\n",
    "import matplotlib.pyplot as plt\n",
    "im=plt.imshow(a)\n",
    "bar = plt.colorbar(im)\n",
    "plt.show()"
   ]
  },
  {
   "cell_type": "code",
   "execution_count": null,
   "id": "9df656af",
   "metadata": {},
   "outputs": [],
   "source": []
  }
 ],
 "metadata": {
  "kernelspec": {
   "display_name": "Python 3",
   "language": "python",
   "name": "python3"
  },
  "language_info": {
   "codemirror_mode": {
    "name": "ipython",
    "version": 3
   },
   "file_extension": ".py",
   "mimetype": "text/x-python",
   "name": "python",
   "nbconvert_exporter": "python",
   "pygments_lexer": "ipython3",
   "version": "3.7.9"
  }
 },
 "nbformat": 4,
 "nbformat_minor": 5
}
