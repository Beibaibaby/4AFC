{
 "cells": [
  {
   "cell_type": "code",
   "execution_count": null,
   "metadata": {},
   "outputs": [],
   "source": [
    "import brainpy as bp\n",
    "import brainpy.math as bm\n",
    "\n",
    "bp.math.enable_x64()\n",
    "bp.math.set_platform('cpu')\n",
    "\n",
    "gamma = 0.641  # Saturation factor for gating variable\n",
    "tau = 0.1  # Synaptic time constant [sec]\n",
    "a = 270.  #  Hz/nA\n",
    "b = 108.  # Hz\n",
    "d = 0.154  # sec\n",
    "\n",
    "I0 = 0.3255  # background current [nA]\n",
    "JE = 0.2609  # self-coupling strength [nA]\n",
    "JI_opst = -0.0497  # cross-coupling strength to the opposite direction [nA]\n",
    "JI_othg = -0.0497  # cross-coupling strength to the othorgnal direction [nA]\n",
    "JAext = 0.00052  # Stimulus input strength [nA]\n",
    "Ib = 0.3255  # The background input\n"
   ]
  },
  {
   "cell_type": "markdown",
   "metadata": {},
   "source": [
    "# Define the model\n",
    "\n",
    "the synapic current activation function is as below\n",
    "$$\n",
    "r_i = F(I_i)=\\frac{aI_i-b}{1-exp(-d(aI_i-b))}\n",
    "\\tag{1}\n",
    "$$\n",
    "\n",
    "The synapic drive is defined as below\n",
    "$$\n",
    "\\frac{dS_1}{dt}=F(I_1)\\gamma(1-S_1)-S_1/\\tau _s \\\\\n",
    "$$\n",
    "$$ \n",
    "\\frac{dS_2}{dt}=F(I_2)\\gamma(1-S_2)-S_2/\\tau _s\n",
    "$$\n",
    "$$ \n",
    "\\frac{dS_3}{dt}=F(I_3)\\gamma(1-S_3)-S_3/\\tau _s\n",
    "$$\n",
    "$$ \n",
    "\\frac{dS_4}{dt}=F(I_4)\\gamma(1-S_4)-S_4/\\tau _s\n",
    "$$ \n",
    "\n",
    "\n",
    "The net current into each population\n",
    "directions 1/2/3/4 indicate 0/90/180/270 deg\n",
    "$$\n",
    "I_1 = J_E S_1 + J_{Iothg} S_2 + J_{Iopst} S_3 + J_{Iothg} S_4 + I_b + J_{ext}\\mu_1\n",
    "$$\n",
    "\n",
    "$$\n",
    "I_2 = J_E S_2 + J_{Iothg} S_1 + J_{Iopst} S_4 + J_{Iothg} S_3 + I_b + J_{ext}\\mu_2\n",
    "$$\n",
    "$$\n",
    "I_3 = J_E S_3 + J_{Iothg} S_2 + J_{Iopst} S_1 + J_{Iothg} S_4 + I_b + J_{ext}\\mu_3\n",
    "$$\n",
    "$$\n",
    "I_4 = J_E S_3 + J_{Iothg} S_1 + J_{Iopst} S_2 + J_{Iothg} S_3 + I_b + J_{ext}\\mu_4\n",
    "$$\n",
    "\n",
    "The input current\n",
    "we need to think about this, use the tuning curve of motion\n",
    "$$\n",
    "u = const * u_0 * exp(-\\frac{(dir - \\theta_k)^2}{\\sigma^2})\n",
    "$$\n",
    "here, $\\sigma$ is the bandwidth of direction selective tuning curve \n"
   ]
  },
  {
   "cell_type": "code",
   "execution_count": null,
   "metadata": {},
   "outputs": [],
   "source": [
    "# implement the model\n",
    "# note that we should modify the mu part\n",
    "@bp.odeint\n",
    "def int_s1(s1, t, s2, s3, s4, coh=0.5, mu=20.):\n",
    "    I1 = JE * s1 + JI_othg * s2 + JI_opst * s3 + JI_othg * s4 + Ib + JAext * mu * (1. + coh)\n",
    "    r1 = (a * I1 - b) / (1. - bm.exp(-d * (a * I1 - b)))\n",
    "    return - s1 / tau + (1. - s1) * gamma * r1\n",
    "\n",
    "@bp.odeint\n",
    "def int_s2(s2, t, s1, s3, s4 coh=0.5, mu=20.):\n",
    "    I2 = JE * s2 + JI_othg * s1 + JI_opst * s4 + JI_othg * s3 + Ib + JAext * mu * (1. + coh)\n",
    "    r2 = (a * I2 - b) / (1. - bm.exp(-d * (a * I2 - b)))\n",
    "    return - s2 / tau + (1. - s2) * gamma * r2\n",
    "\n",
    "@bp.odeint\n",
    "def int_s3(s3, t, s1, s2, s4, coh=0.5, mu=20.):\n",
    "    I3 = JE * s3 + JI_othg * s2 + JI_opst * s1 + JI_othg * s4 + Ib + JAext * mu * (1. + coh)\n",
    "    r3 = (a * I3 - b) / (1. - bm.exp(-d * (a * I3 - b)))\n",
    "    return - s3 / tau + (1. - s3) * gamma * r3\n",
    "\n",
    "@bp.odeint\n",
    "def int_s4(s4, t, s1, s2, s3, coh=0.5, mu=20.):\n",
    "    I4 = JE * s4 + JI_othg * s1 + JI_opst * s2 + JI_othg * s3 + Ib + JAext * mu * (1. + coh)\n",
    "    r4 = (a * I4 - b) / (1. - bm.exp(-d * (a * I4 - b)))\n",
    "    return - s4 / tau + (1. - s4) * gamma * r4"
   ]
  },
  {
   "cell_type": "markdown",
   "metadata": {},
   "source": [
    "1. Define visualization function\n",
    "2. run brainpy runner"
   ]
  },
  {
   "cell_type": "markdown",
   "metadata": {},
   "source": []
  }
 ],
 "metadata": {
  "language_info": {
   "name": "python"
  },
  "orig_nbformat": 4
 },
 "nbformat": 4,
 "nbformat_minor": 2
}
